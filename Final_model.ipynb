{
 "cells": [
  {
   "cell_type": "code",
   "execution_count": null,
   "id": "0f8b4eea",
   "metadata": {},
   "outputs": [],
   "source": [
    "# Core libraries\n",
    "import pandas as pd\n",
    "import numpy as np\n",
    "import matplotlib.pyplot as plt\n",
    "import seaborn as sns\n",
    "\n",
    "# Sklearn processing\n",
    "from sklearn.preprocessing import MinMaxScaler\n",
    "from sklearn.model_selection import train_test_split\n",
    "\n",
    "# Sklearn regression algorithms\n",
    "from sklearn.ensemble import ExtraTreesRegressor\n",
    "\n",
    "\n",
    "# Sklearn regression model evaluation function\n",
    "from sklearn.model_selection import cross_val_score, KFold\n",
    "from sklearn.model_selection import GridSearchCV\n",
    "from sklearn.metrics import fbeta_score, make_scorer\n",
    "from sklearn.metrics import r2_score\n",
    "\n",
    "# Ignore warning\n",
    "import warnings\n",
    "warnings.filterwarnings(\"ignore\")"
   ]
  },
  {
   "cell_type": "code",
   "execution_count": null,
   "id": "9109f8aa",
   "metadata": {},
   "outputs": [],
   "source": [
    "# Loading the dataset\n",
    "df = pd.read_csv(\"C:\\\\Users\\\\HP\\\\Downloads\\\\final_data_new.csv\",index_col=[0])\n",
    "X = df.iloc [:, : -1]\n",
    "y= df.iloc [:, -1 :]"
   ]
  },
  {
   "cell_type": "code",
   "execution_count": null,
   "id": "94e47e8d",
   "metadata": {},
   "outputs": [],
   "source": [
    "# Perform Scaling\n",
    "from sklearn.preprocessing import StandardScaler\n",
    "sc = StandardScaler()\n",
    "X_sc = sc.fit_transform(X)\n",
    "\n",
    "# Splitting the data into train and test split\n",
    "from sklearn.model_selection import train_test_split\n",
    "X_train, X_test, y_train, y_test = train_test_split(X_sc, y, test_size=0.2, random_state=42)"
   ]
  },
  {
   "cell_type": "code",
   "execution_count": null,
   "id": "4217a411",
   "metadata": {},
   "outputs": [],
   "source": [
    "# Build ExtraTreesregressor\n",
    "model = ExtraTreesRegressor()\n",
    "model.fit(X_train, y_train)\n",
    "predictions = model.predict(X_test)"
   ]
  },
  {
   "cell_type": "code",
   "execution_count": null,
   "id": "3cfe3168",
   "metadata": {},
   "outputs": [],
   "source": [
    "model.score(X_train,y_train)"
   ]
  },
  {
   "cell_type": "code",
   "execution_count": null,
   "id": "13a12366",
   "metadata": {},
   "outputs": [],
   "source": [
    "model.score(X_test,y_test)"
   ]
  },
  {
   "cell_type": "code",
   "execution_count": null,
   "id": "23bf12ca",
   "metadata": {},
   "outputs": [],
   "source": [
    "dt_scores = cross_val_score(model, X_train, y_train, cv = 5)\n",
    "print(\"Mean cross-validation score: %.2f\" % dt_scores.mean())"
   ]
  },
  {
   "cell_type": "code",
   "execution_count": null,
   "id": "b2aa8283",
   "metadata": {},
   "outputs": [],
   "source": [
    "print(r2_score(y_test, model.predict(X_test)))"
   ]
  },
  {
   "cell_type": "code",
   "execution_count": null,
   "id": "a3f51c49",
   "metadata": {},
   "outputs": [],
   "source": [
    "# Hyper parameters range intialization for tuning  \n",
    "parameters = {\n",
    "    'n_estimators': [10,50,100],\n",
    "    'max_depth': [1,3,5,7,9,11,12],\n",
    "    'max_features': ['auto','sqrt','log2']}   "
   ]
  },
  {
   "cell_type": "code",
   "execution_count": null,
   "id": "51829b5e",
   "metadata": {},
   "outputs": [],
   "source": [
    "# Building the tuning model\n",
    "tuning_model = GridSearchCV(model, param_grid = parameters)"
   ]
  },
  {
   "cell_type": "code",
   "execution_count": null,
   "id": "bf6f86f7",
   "metadata": {},
   "outputs": [],
   "source": [
    "# Fitting tuning model\n",
    "tuning_model.fit(X_train,y_train)"
   ]
  },
  {
   "cell_type": "code",
   "execution_count": null,
   "id": "cde5f61a",
   "metadata": {},
   "outputs": [],
   "source": [
    "# Best hyperparameters\n",
    "tuning_model.best_params_"
   ]
  },
  {
   "cell_type": "code",
   "execution_count": null,
   "id": "02e74f22",
   "metadata": {},
   "outputs": [],
   "source": [
    "# Training ExtraTrees With Best Hyperparameters\n",
    "tuned_hyper_model= ExtraTreesRegressor(n_estimators=100, max_depth=11)"
   ]
  },
  {
   "cell_type": "code",
   "execution_count": null,
   "id": "78c0e42f",
   "metadata": {},
   "outputs": [],
   "source": [
    "# Fitting model \n",
    "tuned_hyper_model.fit(X_train,y_train)"
   ]
  },
  {
   "cell_type": "code",
   "execution_count": null,
   "id": "09b9a2c7",
   "metadata": {},
   "outputs": [],
   "source": [
    "# Prediction with tuned hyper model\n",
    "tuned_pred=tuned_hyper_model.predict(X_test)"
   ]
  },
  {
   "cell_type": "code",
   "execution_count": null,
   "id": "b23f108a",
   "metadata": {},
   "outputs": [],
   "source": [
    "print(r2_score(y_test, tuned_pred))"
   ]
  },
  {
   "cell_type": "code",
   "execution_count": null,
   "id": "d24baded",
   "metadata": {},
   "outputs": [],
   "source": [
    "dt_scores = cross_val_score(tuned_hyper_model, X_train, y_train, cv = 5)\n",
    "print(\"Mean cross-validation score: %.2f\" % dt_scores.mean())"
   ]
  }
 ],
 "metadata": {
  "kernelspec": {
   "display_name": "Python 3 (ipykernel)",
   "language": "python",
   "name": "python3"
  },
  "language_info": {
   "codemirror_mode": {
    "name": "ipython",
    "version": 3
   },
   "file_extension": ".py",
   "mimetype": "text/x-python",
   "name": "python",
   "nbconvert_exporter": "python",
   "pygments_lexer": "ipython3",
   "version": "3.9.7"
  }
 },
 "nbformat": 4,
 "nbformat_minor": 5
}
