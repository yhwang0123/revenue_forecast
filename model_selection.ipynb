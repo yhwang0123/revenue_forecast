{
 "cells": [
  {
   "cell_type": "code",
   "execution_count": null,
   "id": "73b3bb68",
   "metadata": {},
   "outputs": [],
   "source": [
    "# Core libraries\n",
    "import numpy as np\n",
    "import pandas as pd\n",
    "\n",
    "# Sklearn processing\n",
    "from sklearn.model_selection import train_test_split\n",
    "from sklearn.preprocessing import StandardScaler\n",
    "\n",
    "# Sklearn regression algorithms\n",
    "from sklearn.linear_model import LinearRegression\n",
    "from sklearn.neighbors import KNeighborsRegressor\n",
    "from sklearn.tree import DecisionTreeRegressor\n",
    "from sklearn.ensemble import RandomForestRegressor\n",
    "from xgboost import XGBRegressor\n",
    "from sklearn.linear_model import Lasso\n",
    "from sklearn.ensemble import ExtraTreesRegressor\n",
    "\n",
    "# Sklearn regression model evaluation function\n",
    "from sklearn.metrics import r2_score\n",
    "from sklearn.metrics import mean_absolute_error"
   ]
  },
  {
   "cell_type": "code",
   "execution_count": null,
   "id": "304909f3",
   "metadata": {},
   "outputs": [],
   "source": [
    "# Loading the dataset\n",
    "\n",
    "df = pd.read_csv(\"C:\\\\Users\\\\HP\\\\Downloads\\\\final_data.csv\",index_col=[0])"
   ]
  },
  {
   "cell_type": "code",
   "execution_count": null,
   "id": "dc337856",
   "metadata": {},
   "outputs": [],
   "source": [
    "# Create X and y variable\n",
    "X = df.drop(['next_year_revenue'],axis=1)\n",
    "y = df['next_year_revenue']"
   ]
  },
  {
   "cell_type": "code",
   "execution_count": null,
   "id": "ef82c97c",
   "metadata": {},
   "outputs": [],
   "source": [
    "# Perform Scaling\n",
    "\n",
    "sc = StandardScaler()\n",
    "X_sc = sc.fit_transform(X)"
   ]
  },
  {
   "cell_type": "code",
   "execution_count": null,
   "id": "93b3a7a6",
   "metadata": {},
   "outputs": [],
   "source": [
    "#Splitting the data into train and test split\n",
    "\n",
    "import sklearn\n",
    "from sklearn.model_selection import train_test_split\n",
    "X_train, X_test, y_train, y_test = train_test_split(X_sc, y, test_size = 0.30, random_state = 42)"
   ]
  },
  {
   "cell_type": "code",
   "execution_count": null,
   "id": "531bd02c",
   "metadata": {},
   "outputs": [],
   "source": [
    "# Regression models lists needs to be checked for selection\n",
    "\n",
    "models = [LinearRegression(), KNeighborsRegressor(), DecisionTreeRegressor(), XGBRegressor(), RandomForestRegressor(), Lasso(), ExtraTreesRegressor()]"
   ]
  },
  {
   "cell_type": "code",
   "execution_count": null,
   "id": "cda606f8",
   "metadata": {},
   "outputs": [],
   "source": [
    "# Building the models\n",
    "\n",
    "for model in models:\n",
    "    model.fit(X_train, y_train)\n",
    "    predictions = model.predict(X_test)\n",
    "    print(type(model).__name__, r2_score(y_test, predictions))"
   ]
  },
  {
   "cell_type": "code",
   "execution_count": null,
   "id": "e27b8982",
   "metadata": {},
   "outputs": [],
   "source": [
    "for model in models:\n",
    "    predictions = model.predict(X_test)\n",
    "    print(type(model).__name__, mean_absolute_error(y_test, predictions))"
   ]
  }
 ],
 "metadata": {
  "kernelspec": {
   "display_name": "Python 3 (ipykernel)",
   "language": "python",
   "name": "python3"
  },
  "language_info": {
   "codemirror_mode": {
    "name": "ipython",
    "version": 3
   },
   "file_extension": ".py",
   "mimetype": "text/x-python",
   "name": "python",
   "nbconvert_exporter": "python",
   "pygments_lexer": "ipython3",
   "version": "3.9.7"
  }
 },
 "nbformat": 4,
 "nbformat_minor": 5
}
