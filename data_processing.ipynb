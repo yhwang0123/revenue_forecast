{
 "cells": [
  {
   "cell_type": "code",
   "execution_count": 1,
   "id": "75a3fd14",
   "metadata": {},
   "outputs": [],
   "source": [
    "import pandas as pd\n",
    "import json\n",
    "import numpy as np"
   ]
  },
  {
   "cell_type": "code",
   "execution_count": 2,
   "id": "720e8ff5",
   "metadata": {},
   "outputs": [],
   "source": [
    "data=pd.read_json('/home/soukaina/Downloads/accounton_data.json/accounton_data.json')"
   ]
  },
  {
   "cell_type": "code",
   "execution_count": 3,
   "id": "a6d7019b",
   "metadata": {},
   "outputs": [
    {
     "name": "stdout",
     "output_type": "stream",
     "text": [
      "(50004, 20)\n"
     ]
    }
   ],
   "source": [
    "print(data.shape)"
   ]
  },
  {
   "cell_type": "code",
   "execution_count": 4,
   "id": "25721b22",
   "metadata": {},
   "outputs": [],
   "source": [
    "with open('/home/soukaina/Downloads/accounton_data.json/accounton_data.json','r') as f:\n",
    "    data=json.loads(f.read())\n",
    "df = pd.json_normalize(data)\n",
    "    "
   ]
  },
  {
   "cell_type": "code",
   "execution_count": 5,
   "id": "a12e9840",
   "metadata": {},
   "outputs": [],
   "source": [
    "# df.head(10)"
   ]
  },
  {
   "cell_type": "code",
   "execution_count": 6,
   "id": "b7a489dd",
   "metadata": {},
   "outputs": [],
   "source": [
    "# print(df.columns)"
   ]
  },
  {
   "cell_type": "code",
   "execution_count": 7,
   "id": "680c3655",
   "metadata": {},
   "outputs": [],
   "source": [
    "# df[['revenue.2020','revenue.2019','revenue.2018','revenue.2017','revenue.2016','revenue.2015']]"
   ]
  },
  {
   "cell_type": "code",
   "execution_count": 8,
   "id": "55b8135e",
   "metadata": {},
   "outputs": [],
   "source": [
    "#drop revenue with nan value in all years\n",
    "\n",
    "# df.dropna(subset = ['revenue.2020', 'revenue.2019','revenue.2018','revenue.2017','revenue.2016','revenue.2015'], how=\"all\",inplace=True)"
   ]
  },
  {
   "cell_type": "code",
   "execution_count": 9,
   "id": "6bf78430",
   "metadata": {},
   "outputs": [],
   "source": [
    "# df.shape"
   ]
  },
  {
   "cell_type": "code",
   "execution_count": 10,
   "id": "85bce15a",
   "metadata": {},
   "outputs": [],
   "source": [
    "# df[['revenue.2020','revenue.2019','revenue.2018','revenue.2017','revenue.2016','revenue.2015']]"
   ]
  },
  {
   "cell_type": "code",
   "execution_count": 11,
   "id": "c7818694",
   "metadata": {},
   "outputs": [],
   "source": [
    "# df['company_name'] =df['company_name'].astype('category').cat.codes\n",
    "# df['vat_number']=df['vat_number'].astype('category').cat.codes\n",
    "# df['city'] =df['city'].astype('category').cat.codes\n",
    "# df['legal_form'] =df['legal_form'].astype('category').cat.codes\n",
    "# df['company_category'] =df['company_category'].astype('category').cat.codes\n",
    "# df['province'] =df['province'].astype('category').cat.codes\n",
    "# df['creation_date'] =df['creation_date'].astype('category').cat.codes\n"
   ]
  },
  {
   "cell_type": "code",
   "execution_count": 12,
   "id": "5710e34f",
   "metadata": {
    "scrolled": true
   },
   "outputs": [],
   "source": [
    "# df"
   ]
  },
  {
   "cell_type": "code",
   "execution_count": 13,
   "id": "11839470",
   "metadata": {},
   "outputs": [],
   "source": [
    "\n",
    "# df.set_index('vat_number',inplace=True)\n",
    "# df"
   ]
  },
  {
   "cell_type": "code",
   "execution_count": 14,
   "id": "b182ba6f",
   "metadata": {},
   "outputs": [],
   "source": [
    "# df.iloc[:\n",
    "df1=df.drop(df.iloc[:, 3:5], axis = 1)\n"
   ]
  },
  {
   "cell_type": "code",
   "execution_count": 15,
   "id": "8cdd3354",
   "metadata": {},
   "outputs": [],
   "source": [
    "# df1"
   ]
  },
  {
   "cell_type": "code",
   "execution_count": 16,
   "id": "bde69c85",
   "metadata": {},
   "outputs": [],
   "source": [
    "# df1.columns"
   ]
  },
  {
   "cell_type": "code",
   "execution_count": 17,
   "id": "4f1b7f39",
   "metadata": {},
   "outputs": [],
   "source": [
    "#find the correlation \n",
    "features=['ebit.2016','ebitda.2016','profit_and_loss_after_taxes.2016','total_assets.2016','total_liabilities.2016','operating_profit_and_loss.2016','financial_profit_and_loss.2016','staff_count.2016','net_added_value.2016','staff_costs.2016']\n",
    "for feature in features:\n",
    "\n",
    "    for i in range(19,14,-1):\n",
    "        \n",
    "        feature_target='revenue.2016'\n",
    "        \n",
    "        f=feature.replace('16',str(i))\n",
    "        f_target=feature_target.replace('16',str(i+1))\n",
    "        \n",
    "        corr=df[f].corr(df[f_target])\n",
    "        \n",
    "#         print('corr {} {} = {}'.format(f,f_target,round(corr,2)))"
   ]
  },
  {
   "cell_type": "code",
   "execution_count": 18,
   "id": "dd3019c9",
   "metadata": {},
   "outputs": [],
   "source": [
    "#Drop features with low correlation\n",
    "\n",
    "df2=df1.drop(df1.loc[:,'total_liabilities.2020':'total_liabilities.2015'],axis=1)\n",
    "df3=df2.drop(df2.loc[:,'staff_count.2020':'staff_count.2015'],axis=1)\n",
    "df4=df3.drop(df3.loc[:,'financial_profit_and_loss.2020':'financial_profit_and_loss.2015'],axis=1)\n",
    "df5=df4.drop(df4.loc[:,'profit_and_loss_after_taxes.2020':'profit_and_loss_after_taxes.2015'],axis=1)\n",
    "df6=df5.drop(df5.loc[:,'operating_profit_and_loss.2020':'operating_profit_and_loss.2015'],axis=1)\n",
    "\n",
    "# df6.columns\n"
   ]
  },
  {
   "cell_type": "code",
   "execution_count": 19,
   "id": "854e66df",
   "metadata": {},
   "outputs": [],
   "source": [
    "# df6"
   ]
  },
  {
   "cell_type": "code",
   "execution_count": 20,
   "id": "04e329ab",
   "metadata": {},
   "outputs": [],
   "source": [
    "var=['ebit.2020', 'ebit.2019', 'ebit.2018', 'ebit.2017',\n",
    "       'ebit.2016', 'ebit.2015', 'ebitda.2020', 'ebitda.2019', 'ebitda.2018',\n",
    "       'ebitda.2017', 'ebitda.2016', 'ebitda.2015', 'total_assets.2020',\n",
    "       'total_assets.2019', 'total_assets.2018', 'total_assets.2017',\n",
    "       'total_assets.2016', 'total_assets.2015', 'revenue.2020',\n",
    "       'revenue.2019', 'revenue.2018', 'revenue.2017', 'revenue.2016',\n",
    "       'revenue.2015', 'net_added_value.2020', 'net_added_value.2019',\n",
    "       'net_added_value.2018', 'net_added_value.2017', 'net_added_value.2016',\n",
    "       'net_added_value.2015', 'staff_costs.2020', 'staff_costs.2019',\n",
    "       'staff_costs.2018', 'staff_costs.2016', 'staff_costs.2017',\n",
    "       'staff_costs.2015']\n",
    "df_melted=pd.melt(df6, id_vars =['company_name','nace_code','vat_number','company_category','province'], value_vars =var)\n"
   ]
  },
  {
   "cell_type": "code",
   "execution_count": 21,
   "id": "c13f5351",
   "metadata": {},
   "outputs": [],
   "source": [
    "# df_melted"
   ]
  },
  {
   "cell_type": "code",
   "execution_count": null,
   "id": "ba4d6404",
   "metadata": {},
   "outputs": [],
   "source": [
    "df_melted[['data_name','year']] = df_melted['variable'].apply(\n",
    "   lambda x: pd.Series(str(x).split(\".\")))"
   ]
  },
  {
   "cell_type": "code",
   "execution_count": null,
   "id": "2cb0c187",
   "metadata": {},
   "outputs": [],
   "source": [
    "# df_melted"
   ]
  },
  {
   "cell_type": "code",
   "execution_count": null,
   "id": "4b7f12dc",
   "metadata": {},
   "outputs": [],
   "source": [
    "table = df_melted.pivot(index=['company_name','nace_code','vat_number','company_category','province','year'],columns='data_name',values='value')  \n",
    "# table"
   ]
  },
  {
   "cell_type": "code",
   "execution_count": null,
   "id": "c0d3dbe9",
   "metadata": {},
   "outputs": [],
   "source": [
    "table.reset_index(inplace=True)\n",
    "table['nace_code']=table['nace_code'].astype(str)\n",
    "table['section']=table.nace_code.str[:2]\n",
    "# table"
   ]
  },
  {
   "cell_type": "code",
   "execution_count": null,
   "id": "8fc9817a",
   "metadata": {},
   "outputs": [],
   "source": [
    "table1=table.groupby([\"company_name\",\"nace_code\",\"vat_number\",\"company_category\",\"province\",\"year\"])"
   ]
  },
  {
   "cell_type": "code",
   "execution_count": null,
   "id": "805a01c3",
   "metadata": {},
   "outputs": [],
   "source": [
    "# table1.first()"
   ]
  },
  {
   "cell_type": "code",
   "execution_count": null,
   "id": "841cedd7",
   "metadata": {},
   "outputs": [],
   "source": [
    "p= pd.read_csv('/home/soukaina/Downloads/clean_data.csv')"
   ]
  },
  {
   "cell_type": "code",
   "execution_count": null,
   "id": "e60bbb41",
   "metadata": {},
   "outputs": [],
   "source": [
    "# p"
   ]
  },
  {
   "cell_type": "code",
   "execution_count": null,
   "id": "0d4acd8a",
   "metadata": {},
   "outputs": [],
   "source": [
    "x=p[['ebit','ebitda','net_added_value','current_revenue','staff_costs','total_assets']].values \n"
   ]
  },
  {
   "cell_type": "code",
   "execution_count": null,
   "id": "a0ece16b",
   "metadata": {},
   "outputs": [],
   "source": [
    "y=p['next_year_revenue'].values\n"
   ]
  },
  {
   "cell_type": "code",
   "execution_count": null,
   "id": "7cde5ac6",
   "metadata": {},
   "outputs": [],
   "source": [
    "from sklearn.model_selection import train_test_split\n"
   ]
  },
  {
   "cell_type": "code",
   "execution_count": null,
   "id": "985fed25",
   "metadata": {},
   "outputs": [],
   "source": [
    "# x_train, x_test, y_train, y_test = train_test_split(x, y, test_size=0.33, random_state=42)"
   ]
  },
  {
   "cell_type": "code",
   "execution_count": null,
   "id": "c831f4dc",
   "metadata": {},
   "outputs": [],
   "source": [
    "# from sklearn.linear_model import LinearRegression,LogisticRegression\n",
    "# #train model\n",
    "# ml=LinearRegression()\n",
    "# # ml = LogisticRegression()\n",
    "# ml.fit(x_train,y_train)"
   ]
  },
  {
   "cell_type": "code",
   "execution_count": null,
   "id": "4bf090e7",
   "metadata": {},
   "outputs": [],
   "source": [
    "# y_pred=ml.predict(x_test)\n",
    "# y_pred"
   ]
  },
  {
   "cell_type": "code",
   "execution_count": null,
   "id": "8eb74813",
   "metadata": {},
   "outputs": [],
   "source": [
    "# ml.predict([[23246.0,28427.0,110034.0,322111.0,81607.0,349023.0]])"
   ]
  },
  {
   "cell_type": "code",
   "execution_count": null,
   "id": "63cb64c7",
   "metadata": {},
   "outputs": [],
   "source": [
    "# from sklearn.metrics import r2_score,accuracy_score\n",
    "# print(ml.score(x_test,y_test))\n",
    "# print(r2_score(y_test,y_pred))"
   ]
  }
 ],
 "metadata": {
  "kernelspec": {
   "display_name": "local-vev",
   "language": "python",
   "name": "local-vev"
  },
  "language_info": {
   "codemirror_mode": {
    "name": "ipython",
    "version": 3
   },
   "file_extension": ".py",
   "mimetype": "text/x-python",
   "name": "python",
   "nbconvert_exporter": "python",
   "pygments_lexer": "ipython3",
   "version": "3.8.10"
  }
 },
 "nbformat": 4,
 "nbformat_minor": 5
}
